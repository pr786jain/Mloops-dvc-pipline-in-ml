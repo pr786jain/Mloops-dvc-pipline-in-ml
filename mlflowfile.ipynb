{
 "cells": [
  {
   "cell_type": "code",
   "execution_count": 1,
   "id": "de43b4a1",
   "metadata": {},
   "outputs": [
    {
     "name": "stderr",
     "output_type": "stream",
     "text": [
      "[nltk_data] Downloading package stopwords to\n",
      "[nltk_data]     C:\\Users\\amitj\\AppData\\Roaming\\nltk_data...\n",
      "[nltk_data]   Package stopwords is already up-to-date!\n"
     ]
    },
    {
     "data": {
      "text/plain": [
       "True"
      ]
     },
     "execution_count": 1,
     "metadata": {},
     "output_type": "execute_result"
    }
   ],
   "source": [
    "import pandas as pd\n",
    "import numpy as np  \n",
    "import matplotlib.pyplot as plt \n",
    "from wordcloud import wordcloud \n",
    "import nltk\n",
    "from nltk.corpus import stopwords\n",
    "\n",
    "nltk.download('stopwords')\n"
   ]
  },
  {
   "cell_type": "code",
   "execution_count": 2,
   "id": "49495719",
   "metadata": {},
   "outputs": [
    {
     "name": "stderr",
     "output_type": "stream",
     "text": [
      "[nltk_data] Downloading package stopwords to\n",
      "[nltk_data]     C:\\Users\\amitj\\AppData\\Roaming\\nltk_data...\n",
      "[nltk_data]   Package stopwords is already up-to-date!\n",
      "[nltk_data] Downloading package punkt to\n",
      "[nltk_data]     C:\\Users\\amitj\\AppData\\Roaming\\nltk_data...\n",
      "[nltk_data]   Package punkt is already up-to-date!\n"
     ]
    },
    {
     "data": {
      "text/plain": [
       "True"
      ]
     },
     "execution_count": 2,
     "metadata": {},
     "output_type": "execute_result"
    }
   ],
   "source": [
    "nltk.download('stopwords')\n",
    "nltk.download('punkt')"
   ]
  },
  {
   "cell_type": "code",
   "execution_count": 3,
   "id": "3cf365cf",
   "metadata": {},
   "outputs": [],
   "source": [
    "df =pd.read_csv('spam_or_not_spam.csv')"
   ]
  },
  {
   "cell_type": "code",
   "execution_count": 4,
   "id": "ca75a388",
   "metadata": {},
   "outputs": [
    {
     "data": {
      "text/html": [
       "<div>\n",
       "<style scoped>\n",
       "    .dataframe tbody tr th:only-of-type {\n",
       "        vertical-align: middle;\n",
       "    }\n",
       "\n",
       "    .dataframe tbody tr th {\n",
       "        vertical-align: top;\n",
       "    }\n",
       "\n",
       "    .dataframe thead th {\n",
       "        text-align: right;\n",
       "    }\n",
       "</style>\n",
       "<table border=\"1\" class=\"dataframe\">\n",
       "  <thead>\n",
       "    <tr style=\"text-align: right;\">\n",
       "      <th></th>\n",
       "      <th>email</th>\n",
       "      <th>label</th>\n",
       "    </tr>\n",
       "  </thead>\n",
       "  <tbody>\n",
       "    <tr>\n",
       "      <th>0</th>\n",
       "      <td>date wed NUMBER aug NUMBER NUMBER NUMBER NUMB...</td>\n",
       "      <td>0</td>\n",
       "    </tr>\n",
       "    <tr>\n",
       "      <th>1</th>\n",
       "      <td>martin a posted tassos papadopoulos the greek ...</td>\n",
       "      <td>0</td>\n",
       "    </tr>\n",
       "    <tr>\n",
       "      <th>2</th>\n",
       "      <td>man threatens explosion in moscow thursday aug...</td>\n",
       "      <td>0</td>\n",
       "    </tr>\n",
       "    <tr>\n",
       "      <th>3</th>\n",
       "      <td>klez the virus that won t die already the most...</td>\n",
       "      <td>0</td>\n",
       "    </tr>\n",
       "    <tr>\n",
       "      <th>4</th>\n",
       "      <td>in adding cream to spaghetti carbonara which ...</td>\n",
       "      <td>0</td>\n",
       "    </tr>\n",
       "  </tbody>\n",
       "</table>\n",
       "</div>"
      ],
      "text/plain": [
       "                                               email  label\n",
       "0   date wed NUMBER aug NUMBER NUMBER NUMBER NUMB...      0\n",
       "1  martin a posted tassos papadopoulos the greek ...      0\n",
       "2  man threatens explosion in moscow thursday aug...      0\n",
       "3  klez the virus that won t die already the most...      0\n",
       "4   in adding cream to spaghetti carbonara which ...      0"
      ]
     },
     "execution_count": 4,
     "metadata": {},
     "output_type": "execute_result"
    }
   ],
   "source": [
    "df.head()"
   ]
  },
  {
   "cell_type": "code",
   "execution_count": 5,
   "id": "1b70aa72",
   "metadata": {},
   "outputs": [],
   "source": [
    "from sklearn.preprocessing import LabelEncoder\n",
    "\n",
    "encoder =LabelEncoder()\n",
    "df['label']=encoder.fit_transform(df['label'])"
   ]
  },
  {
   "cell_type": "code",
   "execution_count": 6,
   "id": "3c0bd05b",
   "metadata": {},
   "outputs": [
    {
     "data": {
      "text/html": [
       "<div>\n",
       "<style scoped>\n",
       "    .dataframe tbody tr th:only-of-type {\n",
       "        vertical-align: middle;\n",
       "    }\n",
       "\n",
       "    .dataframe tbody tr th {\n",
       "        vertical-align: top;\n",
       "    }\n",
       "\n",
       "    .dataframe thead th {\n",
       "        text-align: right;\n",
       "    }\n",
       "</style>\n",
       "<table border=\"1\" class=\"dataframe\">\n",
       "  <thead>\n",
       "    <tr style=\"text-align: right;\">\n",
       "      <th></th>\n",
       "      <th>email</th>\n",
       "      <th>label</th>\n",
       "    </tr>\n",
       "  </thead>\n",
       "  <tbody>\n",
       "    <tr>\n",
       "      <th>0</th>\n",
       "      <td>date wed NUMBER aug NUMBER NUMBER NUMBER NUMB...</td>\n",
       "      <td>0</td>\n",
       "    </tr>\n",
       "    <tr>\n",
       "      <th>1</th>\n",
       "      <td>martin a posted tassos papadopoulos the greek ...</td>\n",
       "      <td>0</td>\n",
       "    </tr>\n",
       "    <tr>\n",
       "      <th>2</th>\n",
       "      <td>man threatens explosion in moscow thursday aug...</td>\n",
       "      <td>0</td>\n",
       "    </tr>\n",
       "    <tr>\n",
       "      <th>3</th>\n",
       "      <td>klez the virus that won t die already the most...</td>\n",
       "      <td>0</td>\n",
       "    </tr>\n",
       "    <tr>\n",
       "      <th>4</th>\n",
       "      <td>in adding cream to spaghetti carbonara which ...</td>\n",
       "      <td>0</td>\n",
       "    </tr>\n",
       "  </tbody>\n",
       "</table>\n",
       "</div>"
      ],
      "text/plain": [
       "                                               email  label\n",
       "0   date wed NUMBER aug NUMBER NUMBER NUMBER NUMB...      0\n",
       "1  martin a posted tassos papadopoulos the greek ...      0\n",
       "2  man threatens explosion in moscow thursday aug...      0\n",
       "3  klez the virus that won t die already the most...      0\n",
       "4   in adding cream to spaghetti carbonara which ...      0"
      ]
     },
     "execution_count": 6,
     "metadata": {},
     "output_type": "execute_result"
    }
   ],
   "source": [
    "df.head()"
   ]
  },
  {
   "cell_type": "code",
   "execution_count": 7,
   "id": "315c270c",
   "metadata": {},
   "outputs": [
    {
     "data": {
      "text/plain": [
       "127"
      ]
     },
     "execution_count": 7,
     "metadata": {},
     "output_type": "execute_result"
    }
   ],
   "source": [
    "df.duplicated().sum()"
   ]
  },
  {
   "cell_type": "code",
   "execution_count": 8,
   "id": "f0c818b3",
   "metadata": {},
   "outputs": [
    {
     "data": {
      "text/plain": [
       "3000"
      ]
     },
     "execution_count": 8,
     "metadata": {},
     "output_type": "execute_result"
    }
   ],
   "source": [
    "len(df)"
   ]
  },
  {
   "cell_type": "markdown",
   "id": "1a5206b1",
   "metadata": {},
   "source": [
    "Feature Enginnering"
   ]
  },
  {
   "cell_type": "code",
   "execution_count": 9,
   "id": "b0c4812d",
   "metadata": {},
   "outputs": [],
   "source": [
    "from nltk.stem.porter import PorterStemmer\n",
    "\n",
    "import string \n",
    "\n",
    "\n",
    "ps =PorterStemmer()\n",
    "\n",
    "\n"
   ]
  },
  {
   "cell_type": "code",
   "execution_count": 10,
   "id": "bf27c630",
   "metadata": {},
   "outputs": [],
   "source": [
    "def transform_text(text):\n",
    "    if not isinstance(text, str):\n",
    "        return \"\"  # or return np.nan if you prefer to mark missing data\n",
    "    \n",
    "    text = text.lower()\n",
    "    text = nltk.word_tokenize(text)\n",
    "    \n",
    "    y = []\n",
    "    for i in text:\n",
    "        if i.isalnum():\n",
    "            y.append(i)\n",
    "    \n",
    "    text = y[:]\n",
    "    y.clear()\n",
    "    \n",
    "    for i in text:\n",
    "        if i not in stopwords.words('english') and i not in string.punctuation:\n",
    "            y.append(i)\n",
    "    \n",
    "    text = y[:]\n",
    "    y.clear()\n",
    "    \n",
    "    for i in text:\n",
    "        y.append(ps.stem(i))\n",
    "        \n",
    "    return \" \".join(y)\n"
   ]
  },
  {
   "cell_type": "code",
   "execution_count": 11,
   "id": "9aa5c0dc",
   "metadata": {},
   "outputs": [
    {
     "data": {
      "text/plain": [
       "'trth oikfgg ioj toiotr4 ykorhmgf jik8 jiuyettetkjehiw22hkjbjertjrijryi53i4534'"
      ]
     },
     "execution_count": 11,
     "metadata": {},
     "output_type": "execute_result"
    }
   ],
   "source": [
    "transform_text(' trth oikfgg kl.d.. ioj toiotr4%  ykorhmgf,jik8* jiuyettetkjehiw22hkjbjertjrijryi53i4534')"
   ]
  },
  {
   "cell_type": "code",
   "execution_count": 12,
   "id": "a06a47a8",
   "metadata": {},
   "outputs": [],
   "source": [
    "df['transformed_text']=df['email'].apply(transform_text)"
   ]
  },
  {
   "cell_type": "code",
   "execution_count": 13,
   "id": "b0c90b43",
   "metadata": {},
   "outputs": [
    {
     "data": {
      "text/html": [
       "<div>\n",
       "<style scoped>\n",
       "    .dataframe tbody tr th:only-of-type {\n",
       "        vertical-align: middle;\n",
       "    }\n",
       "\n",
       "    .dataframe tbody tr th {\n",
       "        vertical-align: top;\n",
       "    }\n",
       "\n",
       "    .dataframe thead th {\n",
       "        text-align: right;\n",
       "    }\n",
       "</style>\n",
       "<table border=\"1\" class=\"dataframe\">\n",
       "  <thead>\n",
       "    <tr style=\"text-align: right;\">\n",
       "      <th></th>\n",
       "      <th>email</th>\n",
       "      <th>label</th>\n",
       "      <th>transformed_text</th>\n",
       "    </tr>\n",
       "  </thead>\n",
       "  <tbody>\n",
       "    <tr>\n",
       "      <th>0</th>\n",
       "      <td>date wed NUMBER aug NUMBER NUMBER NUMBER NUMB...</td>\n",
       "      <td>0</td>\n",
       "      <td>date wed number aug number number number numbe...</td>\n",
       "    </tr>\n",
       "    <tr>\n",
       "      <th>1</th>\n",
       "      <td>martin a posted tassos papadopoulos the greek ...</td>\n",
       "      <td>0</td>\n",
       "      <td>martin post tasso papadopoulo greek sculptor b...</td>\n",
       "    </tr>\n",
       "    <tr>\n",
       "      <th>2</th>\n",
       "      <td>man threatens explosion in moscow thursday aug...</td>\n",
       "      <td>0</td>\n",
       "      <td>man threaten explos moscow thursday august num...</td>\n",
       "    </tr>\n",
       "    <tr>\n",
       "      <th>3</th>\n",
       "      <td>klez the virus that won t die already the most...</td>\n",
       "      <td>0</td>\n",
       "      <td>klez viru die alreadi prolif viru ever klez co...</td>\n",
       "    </tr>\n",
       "    <tr>\n",
       "      <th>4</th>\n",
       "      <td>in adding cream to spaghetti carbonara which ...</td>\n",
       "      <td>0</td>\n",
       "      <td>ad cream spaghetti carbonara effect pasta make...</td>\n",
       "    </tr>\n",
       "  </tbody>\n",
       "</table>\n",
       "</div>"
      ],
      "text/plain": [
       "                                               email  label  \\\n",
       "0   date wed NUMBER aug NUMBER NUMBER NUMBER NUMB...      0   \n",
       "1  martin a posted tassos papadopoulos the greek ...      0   \n",
       "2  man threatens explosion in moscow thursday aug...      0   \n",
       "3  klez the virus that won t die already the most...      0   \n",
       "4   in adding cream to spaghetti carbonara which ...      0   \n",
       "\n",
       "                                    transformed_text  \n",
       "0  date wed number aug number number number numbe...  \n",
       "1  martin post tasso papadopoulo greek sculptor b...  \n",
       "2  man threaten explos moscow thursday august num...  \n",
       "3  klez viru die alreadi prolif viru ever klez co...  \n",
       "4  ad cream spaghetti carbonara effect pasta make...  "
      ]
     },
     "execution_count": 13,
     "metadata": {},
     "output_type": "execute_result"
    }
   ],
   "source": [
    "df.head()"
   ]
  },
  {
   "cell_type": "code",
   "execution_count": 14,
   "id": "f98ddf3b",
   "metadata": {},
   "outputs": [],
   "source": [
    "from sklearn.feature_extraction.text import CountVectorizer , TfidfVectorizer\n",
    "tfid =TfidfVectorizer(max_features =500)"
   ]
  },
  {
   "cell_type": "code",
   "execution_count": 15,
   "id": "74bb3d8f",
   "metadata": {},
   "outputs": [],
   "source": [
    "x = tfid.fit_transform(df['transformed_text']).toarray()\n",
    "y = df['label'].values"
   ]
  },
  {
   "cell_type": "markdown",
   "id": "7f56c72f",
   "metadata": {},
   "source": [
    "Train Test Split"
   ]
  },
  {
   "cell_type": "code",
   "execution_count": 16,
   "id": "726d1826",
   "metadata": {},
   "outputs": [],
   "source": [
    "from sklearn.model_selection import train_test_split\n",
    "x_train,x_test , y_train ,y_test = train_test_split(x,y,test_size=0.20 ,random_state =2)"
   ]
  },
  {
   "cell_type": "code",
   "execution_count": 17,
   "id": "aee938d9",
   "metadata": {},
   "outputs": [],
   "source": [
    "from sklearn.linear_model import LogisticRegression\n",
    "from sklearn.svm import SVC\n",
    "from sklearn.naive_bayes import MultinomialNB \n",
    "from sklearn.tree import DecisionTreeClassifier\n",
    "from sklearn.neighbors import KNeighborsClassifier\n",
    "from sklearn.ensemble import RandomForestClassifier \n",
    "from sklearn.ensemble import AdaBoostClassifier\n",
    "from sklearn.ensemble import BaggingClassifier\n",
    "from sklearn.ensemble import ExtraTreesClassifier\n",
    "from sklearn.ensemble import GradientBoostingClassifier\n",
    "from xgboost import XGBClassifier"
   ]
  },
  {
   "cell_type": "code",
   "execution_count": 18,
   "id": "0088e613",
   "metadata": {},
   "outputs": [],
   "source": [
    "svc =SVC(kernel=\"sigmoid\",gamma = 1.0)\n",
    "knc =KNeighborsClassifier()\n",
    "mnb =MultinomialNB()\n",
    "dtc =DecisionTreeClassifier()\n",
    "irc = LogisticRegression(solver ='liblinear' , penalty='l1')\n",
    "rfc = RandomForestClassifier(n_estimators=50 , random_state=2)\n",
    "abc = AdaBoostClassifier(n_estimators=50,random_state=2)\n",
    "bc = BaggingClassifier(n_estimators=50 ,random_state=2)\n",
    "etc = ExtraTreesClassifier(n_estimators=50 , random_state=2)\n",
    "gbdt = GradientBoostingClassifier(n_estimators=50 , random_state=2)\n",
    "xgb = XGBClassifier(n_estimators =50, random_state =2)"
   ]
  },
  {
   "cell_type": "code",
   "execution_count": 23,
   "id": "3d6b27b5",
   "metadata": {},
   "outputs": [],
   "source": [
    "models ={\n",
    "    'SVC':svc,\n",
    "    'KNN':knc,\n",
    "    'NB':mnb,\n",
    "    'DI':dtc,\n",
    "    'LOG':irc,\n",
    "    'RF':rfc,\n",
    "    'AD':abc,\n",
    "    'BC':bc,\n",
    "    'EX':etc,\n",
    "    'GB':gbdt,\n",
    "    'XGB':xgb\n",
    "}"
   ]
  },
  {
   "cell_type": "code",
   "execution_count": 24,
   "id": "5642d1dd",
   "metadata": {},
   "outputs": [],
   "source": [
    "from sklearn.metrics import accuracy_score , precision_score\n",
    "def train_classifier(model ,x_train , y_train ,x_test ,y_test):\n",
    "    model.fit(x_train, y_train)\n",
    "    y_pred = model.predict(x_test)\n",
    "    accuracy = accuracy_score(y_test, y_pred)\n",
    "    precision =precision_score(y_test, y_pred)\n",
    "    return accuracy , precision"
   ]
  },
  {
   "cell_type": "code",
   "execution_count": 25,
   "id": "7ddd09e6",
   "metadata": {},
   "outputs": [
    {
     "name": "stdout",
     "output_type": "stream",
     "text": [
      "\n",
      "For SVC\n",
      "Accuracy: 0.9683333333333334\n",
      "Precision: 0.9444444444444444\n",
      "\n",
      "For KNN\n",
      "Accuracy: 0.7133333333333334\n",
      "Precision: 0.3545816733067729\n",
      "\n",
      "For NB\n",
      "Accuracy: 0.9733333333333334\n",
      "Precision: 1.0\n",
      "\n",
      "For DI\n",
      "Accuracy: 0.9466666666666667\n",
      "Precision: 0.8252427184466019\n",
      "\n",
      "For LOG\n",
      "Accuracy: 0.9716666666666667\n",
      "Precision: 1.0\n",
      "\n",
      "For RF\n",
      "Accuracy: 0.9766666666666667\n",
      "Precision: 0.9885057471264368\n",
      "\n",
      "For AD\n",
      "Accuracy: 0.9683333333333334\n",
      "Precision: 0.9761904761904762\n",
      "\n",
      "For BC\n",
      "Accuracy: 0.9583333333333334\n",
      "Precision: 0.8854166666666666\n",
      "\n",
      "For EX\n",
      "Accuracy: 0.9783333333333334\n",
      "Precision: 0.9886363636363636\n",
      "\n",
      "For GB\n",
      "Accuracy: 0.965\n",
      "Precision: 0.9875\n",
      "\n",
      "For XGB\n",
      "Accuracy: 0.9766666666666667\n",
      "Precision: 0.9885057471264368\n"
     ]
    }
   ],
   "source": [
    "accuracy_scores = []\n",
    "precision_scores = []\n",
    "\n",
    "for name, model in models.items():\n",
    "    current_accuracy, current_precision = train_classifier(model, x_train, y_train, x_test, y_test)  # <-- model not models\n",
    "    print()\n",
    "    print(\"For\", name)\n",
    "    print(\"Accuracy:\", current_accuracy)\n",
    "    print(\"Precision:\", current_precision)\n",
    "    \n",
    "    accuracy_scores.append(current_accuracy)\n",
    "    precision_scores.append(current_precision)\n"
   ]
  },
  {
   "cell_type": "code",
   "execution_count": 26,
   "id": "aa16a8ea",
   "metadata": {},
   "outputs": [
    {
     "name": "stdout",
     "output_type": "stream",
     "text": [
      "----- SVC -----\n",
      "Accuracy : 0.9683333333333334\n",
      "Precision: 0.9679117647058824\n",
      "Recall   : 0.9683333333333334\n",
      "F1 Score : 0.9677203146342612\n",
      "Confusion Matrix:\n",
      " [[496   5]\n",
      " [ 14  85]]\n",
      "Classification Report:\n",
      "               precision    recall  f1-score   support\n",
      "\n",
      "           0       0.97      0.99      0.98       501\n",
      "           1       0.94      0.86      0.90        99\n",
      "\n",
      "    accuracy                           0.97       600\n",
      "   macro avg       0.96      0.92      0.94       600\n",
      "weighted avg       0.97      0.97      0.97       600\n",
      "\n",
      "\n",
      "\n",
      "\n",
      "----- KNN -----\n",
      "Accuracy : 0.7133333333333334\n",
      "Precision: 0.8695804746629529\n",
      "Recall   : 0.7133333333333334\n",
      "F1 Score : 0.7499495798319328\n",
      "Confusion Matrix:\n",
      " [[339 162]\n",
      " [ 10  89]]\n",
      "Classification Report:\n",
      "               precision    recall  f1-score   support\n",
      "\n",
      "           0       0.97      0.68      0.80       501\n",
      "           1       0.35      0.90      0.51        99\n",
      "\n",
      "    accuracy                           0.71       600\n",
      "   macro avg       0.66      0.79      0.65       600\n",
      "weighted avg       0.87      0.71      0.75       600\n",
      "\n",
      "\n",
      "\n",
      "\n",
      "----- NB -----\n",
      "Accuracy : 0.9733333333333334\n",
      "Precision: 0.9741586073500966\n",
      "Recall   : 0.9733333333333334\n",
      "F1 Score : 0.9723707333923445\n",
      "Confusion Matrix:\n",
      " [[501   0]\n",
      " [ 16  83]]\n",
      "Classification Report:\n",
      "               precision    recall  f1-score   support\n",
      "\n",
      "           0       0.97      1.00      0.98       501\n",
      "           1       1.00      0.84      0.91        99\n",
      "\n",
      "    accuracy                           0.97       600\n",
      "   macro avg       0.98      0.92      0.95       600\n",
      "weighted avg       0.97      0.97      0.97       600\n",
      "\n",
      "\n",
      "\n",
      "\n",
      "----- DI -----\n",
      "Accuracy : 0.9483333333333334\n",
      "Precision: 0.9501411274921702\n",
      "Recall   : 0.9483333333333334\n",
      "F1 Score : 0.9490337051109204\n",
      "Confusion Matrix:\n",
      " [[482  19]\n",
      " [ 12  87]]\n",
      "Classification Report:\n",
      "               precision    recall  f1-score   support\n",
      "\n",
      "           0       0.98      0.96      0.97       501\n",
      "           1       0.82      0.88      0.85        99\n",
      "\n",
      "    accuracy                           0.95       600\n",
      "   macro avg       0.90      0.92      0.91       600\n",
      "weighted avg       0.95      0.95      0.95       600\n",
      "\n",
      "\n",
      "\n",
      "\n",
      "----- LOG -----\n",
      "Accuracy : 0.9716666666666667\n",
      "Precision: 0.972596525096525\n",
      "Recall   : 0.9716666666666667\n",
      "F1 Score : 0.9705724385840305\n",
      "Confusion Matrix:\n",
      " [[501   0]\n",
      " [ 17  82]]\n",
      "Classification Report:\n",
      "               precision    recall  f1-score   support\n",
      "\n",
      "           0       0.97      1.00      0.98       501\n",
      "           1       1.00      0.83      0.91        99\n",
      "\n",
      "    accuracy                           0.97       600\n",
      "   macro avg       0.98      0.91      0.94       600\n",
      "weighted avg       0.97      0.97      0.97       600\n",
      "\n",
      "\n",
      "\n",
      "\n",
      "----- RF -----\n",
      "Accuracy : 0.9766666666666667\n",
      "Precision: 0.9769436042212811\n",
      "Recall   : 0.9766666666666667\n",
      "F1 Score : 0.9760520455557675\n",
      "Confusion Matrix:\n",
      " [[500   1]\n",
      " [ 13  86]]\n",
      "Classification Report:\n",
      "               precision    recall  f1-score   support\n",
      "\n",
      "           0       0.97      1.00      0.99       501\n",
      "           1       0.99      0.87      0.92        99\n",
      "\n",
      "    accuracy                           0.98       600\n",
      "   macro avg       0.98      0.93      0.96       600\n",
      "weighted avg       0.98      0.98      0.98       600\n",
      "\n",
      "\n",
      "\n",
      "\n",
      "----- AD -----\n",
      "Accuracy : 0.9683333333333334\n",
      "Precision: 0.968561738648948\n",
      "Recall   : 0.9683333333333334\n",
      "F1 Score : 0.9672690491158503\n",
      "Confusion Matrix:\n",
      " [[499   2]\n",
      " [ 17  82]]\n",
      "Classification Report:\n",
      "               precision    recall  f1-score   support\n",
      "\n",
      "           0       0.97      1.00      0.98       501\n",
      "           1       0.98      0.83      0.90        99\n",
      "\n",
      "    accuracy                           0.97       600\n",
      "   macro avg       0.97      0.91      0.94       600\n",
      "weighted avg       0.97      0.97      0.97       600\n",
      "\n",
      "\n",
      "\n",
      "\n",
      "----- BC -----\n",
      "Accuracy : 0.9583333333333334\n",
      "Precision: 0.9578993055555555\n",
      "Recall   : 0.9583333333333334\n",
      "F1 Score : 0.9580750095675469\n",
      "Confusion Matrix:\n",
      " [[490  11]\n",
      " [ 14  85]]\n",
      "Classification Report:\n",
      "               precision    recall  f1-score   support\n",
      "\n",
      "           0       0.97      0.98      0.98       501\n",
      "           1       0.89      0.86      0.87        99\n",
      "\n",
      "    accuracy                           0.96       600\n",
      "   macro avg       0.93      0.92      0.92       600\n",
      "weighted avg       0.96      0.96      0.96       600\n",
      "\n",
      "\n",
      "\n",
      "\n",
      "----- EX -----\n",
      "Accuracy : 0.9783333333333334\n",
      "Precision: 0.9785546875\n",
      "Recall   : 0.9783333333333334\n",
      "F1 Score : 0.9778137158120899\n",
      "Confusion Matrix:\n",
      " [[500   1]\n",
      " [ 12  87]]\n",
      "Classification Report:\n",
      "               precision    recall  f1-score   support\n",
      "\n",
      "           0       0.98      1.00      0.99       501\n",
      "           1       0.99      0.88      0.93        99\n",
      "\n",
      "    accuracy                           0.98       600\n",
      "   macro avg       0.98      0.94      0.96       600\n",
      "weighted avg       0.98      0.98      0.98       600\n",
      "\n",
      "\n",
      "\n",
      "\n",
      "----- GB -----\n",
      "Accuracy : 0.965\n",
      "Precision: 0.9658221153846154\n",
      "Recall   : 0.965\n",
      "F1 Score : 0.9634681192171112\n",
      "Confusion Matrix:\n",
      " [[500   1]\n",
      " [ 20  79]]\n",
      "Classification Report:\n",
      "               precision    recall  f1-score   support\n",
      "\n",
      "           0       0.96      1.00      0.98       501\n",
      "           1       0.99      0.80      0.88        99\n",
      "\n",
      "    accuracy                           0.96       600\n",
      "   macro avg       0.97      0.90      0.93       600\n",
      "weighted avg       0.97      0.96      0.96       600\n",
      "\n",
      "\n",
      "\n",
      "\n",
      "----- XGB -----\n",
      "Accuracy : 0.9766666666666667\n",
      "Precision: 0.9769436042212811\n",
      "Recall   : 0.9766666666666667\n",
      "F1 Score : 0.9760520455557675\n",
      "Confusion Matrix:\n",
      " [[500   1]\n",
      " [ 13  86]]\n",
      "Classification Report:\n",
      "               precision    recall  f1-score   support\n",
      "\n",
      "           0       0.97      1.00      0.99       501\n",
      "           1       0.99      0.87      0.92        99\n",
      "\n",
      "    accuracy                           0.98       600\n",
      "   macro avg       0.98      0.93      0.96       600\n",
      "weighted avg       0.98      0.98      0.98       600\n",
      "\n",
      "\n",
      "\n",
      "\n"
     ]
    }
   ],
   "source": [
    "from sklearn.metrics import accuracy_score, precision_score, recall_score, f1_score, confusion_matrix, classification_report\n",
    "# Evaluate all models\n",
    "for name, model in models.items():\n",
    "    model.fit(x_train, y_train)\n",
    "    y_pred = model.predict(x_test)\n",
    "    \n",
    "    print(f\"----- {name} -----\")\n",
    "    print(\"Accuracy :\", accuracy_score(y_test, y_pred))\n",
    "    print(\"Precision:\", precision_score(y_test, y_pred, average='weighted'))\n",
    "    print(\"Recall   :\", recall_score(y_test, y_pred, average='weighted'))\n",
    "    print(\"F1 Score :\", f1_score(y_test, y_pred, average='weighted'))\n",
    "    print(\"Confusion Matrix:\\n\", confusion_matrix(y_test, y_pred))\n",
    "    print(\"Classification Report:\\n\", classification_report(y_test, y_pred))\n",
    "    print(\"\\n\\n\")\n"
   ]
  },
  {
   "cell_type": "code",
   "execution_count": 27,
   "id": "1595fb76",
   "metadata": {},
   "outputs": [
    {
     "data": {
      "text/html": [
       "<div>\n",
       "<style scoped>\n",
       "    .dataframe tbody tr th:only-of-type {\n",
       "        vertical-align: middle;\n",
       "    }\n",
       "\n",
       "    .dataframe tbody tr th {\n",
       "        vertical-align: top;\n",
       "    }\n",
       "\n",
       "    .dataframe thead th {\n",
       "        text-align: right;\n",
       "    }\n",
       "</style>\n",
       "<table border=\"1\" class=\"dataframe\">\n",
       "  <thead>\n",
       "    <tr style=\"text-align: right;\">\n",
       "      <th></th>\n",
       "      <th>email</th>\n",
       "      <th>label</th>\n",
       "      <th>transformed_text</th>\n",
       "    </tr>\n",
       "  </thead>\n",
       "  <tbody>\n",
       "    <tr>\n",
       "      <th>0</th>\n",
       "      <td>date wed NUMBER aug NUMBER NUMBER NUMBER NUMB...</td>\n",
       "      <td>0</td>\n",
       "      <td>date wed number aug number number number numbe...</td>\n",
       "    </tr>\n",
       "    <tr>\n",
       "      <th>1</th>\n",
       "      <td>martin a posted tassos papadopoulos the greek ...</td>\n",
       "      <td>0</td>\n",
       "      <td>martin post tasso papadopoulo greek sculptor b...</td>\n",
       "    </tr>\n",
       "    <tr>\n",
       "      <th>2</th>\n",
       "      <td>man threatens explosion in moscow thursday aug...</td>\n",
       "      <td>0</td>\n",
       "      <td>man threaten explos moscow thursday august num...</td>\n",
       "    </tr>\n",
       "    <tr>\n",
       "      <th>3</th>\n",
       "      <td>klez the virus that won t die already the most...</td>\n",
       "      <td>0</td>\n",
       "      <td>klez viru die alreadi prolif viru ever klez co...</td>\n",
       "    </tr>\n",
       "    <tr>\n",
       "      <th>4</th>\n",
       "      <td>in adding cream to spaghetti carbonara which ...</td>\n",
       "      <td>0</td>\n",
       "      <td>ad cream spaghetti carbonara effect pasta make...</td>\n",
       "    </tr>\n",
       "  </tbody>\n",
       "</table>\n",
       "</div>"
      ],
      "text/plain": [
       "                                               email  label  \\\n",
       "0   date wed NUMBER aug NUMBER NUMBER NUMBER NUMB...      0   \n",
       "1  martin a posted tassos papadopoulos the greek ...      0   \n",
       "2  man threatens explosion in moscow thursday aug...      0   \n",
       "3  klez the virus that won t die already the most...      0   \n",
       "4   in adding cream to spaghetti carbonara which ...      0   \n",
       "\n",
       "                                    transformed_text  \n",
       "0  date wed number aug number number number numbe...  \n",
       "1  martin post tasso papadopoulo greek sculptor b...  \n",
       "2  man threaten explos moscow thursday august num...  \n",
       "3  klez viru die alreadi prolif viru ever klez co...  \n",
       "4  ad cream spaghetti carbonara effect pasta make...  "
      ]
     },
     "execution_count": 27,
     "metadata": {},
     "output_type": "execute_result"
    }
   ],
   "source": [
    "df.head()"
   ]
  },
  {
   "cell_type": "code",
   "execution_count": 29,
   "id": "627a4415",
   "metadata": {},
   "outputs": [
    {
     "name": "stdout",
     "output_type": "stream",
     "text": [
      "Spam 🚫\n",
      "Spam 🚫\n"
     ]
    }
   ],
   "source": [
    "\n",
    "from sklearn.feature_extraction.text import CountVectorizer , TfidfVectorizer\n",
    "tfid =TfidfVectorizer(max_features =500)\n",
    "tfid.fit(df['transformed_text'])\n",
    "\n",
    "x = tfid.transform(df['transformed_text']).toarray()\n",
    "\n",
    "# Suppose 'best_model' is the model you selected\n",
    "best_model = rfc  # Example: using XGBoost (you can change to your best model)\n",
    "\n",
    "# Now predict for a new email\n",
    "def predict_email(email_text):\n",
    "    # Step 1: Transform text\n",
    "    transformed_email = transform_text(email_text)\n",
    "    \n",
    "    # Step 2: Vectorize (assuming you used TF-IDF or CountVectorizer)\n",
    "    vector_input = tfid.transform([transformed_email])  # tfidf should be your trained vectorizer\n",
    "    \n",
    "    # Step 3: Predict\n",
    "    result = best_model.predict(vector_input)[0]\n",
    "    \n",
    "    # Step 4: Return the result\n",
    "    if result == 1:\n",
    "        return \"Spam 🚫\"\n",
    "    else:\n",
    "        return \"Not Spam ✅\"\n",
    "\n",
    "# Example use\n",
    "email = \"Congratulations! You've won a $1000 Walmart gift card. Click here to claim now.\"\n",
    "print(predict_email(email))\n",
    "\n",
    "email2 = \"Hey, are we still on for the meeting tomorrow morning?\"\n",
    "print(predict_email(email2))\n",
    "\n"
   ]
  },
  {
   "cell_type": "code",
   "execution_count": null,
   "id": "6e0a1338",
   "metadata": {},
   "outputs": [],
   "source": []
  }
 ],
 "metadata": {
  "kernelspec": {
   "display_name": "base",
   "language": "python",
   "name": "python3"
  },
  "language_info": {
   "codemirror_mode": {
    "name": "ipython",
    "version": 3
   },
   "file_extension": ".py",
   "mimetype": "text/x-python",
   "name": "python",
   "nbconvert_exporter": "python",
   "pygments_lexer": "ipython3",
   "version": "3.11.5"
  }
 },
 "nbformat": 4,
 "nbformat_minor": 5
}
